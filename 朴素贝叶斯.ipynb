{
 "cells": [
  {
   "cell_type": "markdown",
   "metadata": {},
   "source": [
    "# 朴素贝叶斯\n",
    "## 概述\n",
    "***贝叶斯分类算法***是一大类分类算法的总称\n",
    "\n",
    "贝叶斯分类算法以***样本可能属于某类的概率来作为分类依据***\n",
    "\n",
    "***朴素贝叶斯分类算法***是贝叶斯分类算法中最简单的一种\n",
    "\n",
    ">注：朴素的意思是条件概率独立性:\n",
    "\n",
    ">$P\\left( {A|{x_1},{x_2},{x_3},{x_4}} \\right) = P\\left( {A|{x_1},} \\right)*P\\left( {A|{x_2}} \\right)*P\\left( {A|{x_3}} \\right)*P(A|{x_4})$\n",
    "\n",
    ">$P\\left( {x,y|z} \\right) = \\frac{P\\left( {x,y,z} \\right)}{P\\left( z \\right)} = \\frac{P\\left( {x,z} \\right)}{P\\left( z \\right)}*\\frac{P\\left( {y,z} \\right)}{P(z)}$\n",
    "\n",
    "## 算法思想\n",
    "即如果一个事物在一些属性条件发生的情况下，属于A的概率>属于B的概率，则判定属于A\n",
    "\n",
    "通俗来说比如，你在街上看到一个黑人，我让你猜这哥们哪里来的，你十有八九猜非洲。为什么呢？\n",
    "\n",
    "在你的脑海中，有这么一个判断流程：\n",
    "\n",
    ">1、这个人的肤色是黑色 <特征>\n",
    "\n",
    ">2、黑色人种是非洲人的概率最高 <条件概率：黑色条件下是非洲人的概率>\n",
    "\n",
    ">3、没有其他辅助信息的情况下，最好的判断就是非洲人\n",
    "\n",
    "这就是朴素贝叶斯的思想基础。\n",
    "\n",
    "## 算法步骤\n",
    "**算法步骤为**\n",
    ">分解各类先验样本数据中的特征\n",
    "\n",
    ">计算各类数据中，各特征的条件概率\n",
    "\n",
    "> - 比如：特征1出现的情况下，属于A类的概率p(A|特征1)，属于B类的概率p(B|特征1)，属于C类的概率p(C|特征1)......\n",
    "\n",
    ">分解待分类数据中的特征\n",
    "> - 特征1、特征2、特征3、特征4......\n",
    "\n",
    ">计算各特征的各条件概率的乘积，如下所示：\n",
    "\n",
    "> - 判断为A类的概率：p(A|特征1)*p(A|特征2)*p(A|特征3)*p(A|特征4).....\n",
    "\n",
    ">- 判断为B类的概率：p(B|特征1)*p(B|特征2)*p(B|特征3)*p(B|特征4).....\n",
    "\n",
    ">- 判断为C类的概率：p(C|特征1)*p(C|特征2)*p(C|特征3)*p(C|特征4).....\n",
    "\n",
    ">- ......\n",
    "\n",
    ">结果中的最大值就是该样本所属的类别\n",
    "\n"
   ]
  },
  {
   "cell_type": "markdown",
   "metadata": {},
   "source": [
    "# 代码X，Y都是离散的"
   ]
  },
  {
   "cell_type": "code",
   "execution_count": 1,
   "metadata": {},
   "outputs": [
    {
     "name": "stdout",
     "output_type": "stream",
     "text": [
      "((275L, 3L), (31L, 3L))\n",
      "((275L,), (31L,))\n"
     ]
    }
   ],
   "source": [
    "#载入数据\n",
    "import numpy as np\n",
    "data = np.loadtxt(fname='haberman.data',delimiter=',',dtype='int')\n",
    "X=data[:,0:3]\n",
    "Y=data[:,3]\n",
    "\n",
    "X[:,2] = X[:,2] + 1 #为何+1？？？为了不对0进行统计！！\n",
    "Y = Y - 1\n",
    "\n",
    "# 将数据分为训练集和测试集，我们把数据集中所有序号末位为\n",
    "# 1的设定为测试集，其他的数据为训练集\n",
    "m1 = 275\n",
    "m2 = 31\n",
    "\n",
    "i_train = []\n",
    "i_test = []\n",
    "\n",
    "for i in range(306):\n",
    "    if(i%10 == 0):\n",
    "        i_test.append(i)\n",
    "    else:\n",
    "        i_train.append(i)\n",
    "        \n",
    "trainX = X[i_train]\n",
    "trainY = Y[i_train]\n",
    "testX = X[i_test]\n",
    "testY = Y[i_test]\n",
    "print(trainX.shape, testX.shape)\n",
    "print(trainY.shape,testY.shape)\n",
    "\n",
    "\n",
    "#计算p(y=1)\n",
    "#使用统计方式计算，Y的取值只有0,1，只需统计1的个数即可\n",
    "c_y1 = np.count_nonzero(trainY)\n",
    "p_y1 = c_y1*1.0/m1\n",
    "p_y0 = 1-p_y1\n",
    "#计算p(xi|y=1)\n",
    "#通过观察数据发现，特征值均为整数，最大为83，所以只需统计各个值上的样本数量\n",
    "#进而计算概率\n",
    "p_x_y1=[]\n",
    "p_x_y0=[]\n",
    "#将两类按标签分开\n",
    "itrain_0 = np.nonzero(trainY==0)\n",
    "itrain_1 = np.nonzero(trainY==1)\n",
    "trainX_0 = trainX[itrain_0]\n",
    "trainX_1 = trainX[itrain_1]\n",
    "for i in range(83):\n",
    "    j=i+1\n",
    "    p_x_y0.append(np.count_nonzero(trainX_0==j,axis=0))\n",
    "    p_x_y1.append(np.count_nonzero(trainX_1==j,axis=0))\n",
    "p_x_y0=np.array(p_x_y0)/(0.0+c_y1)\n",
    "p_x_y1=np.array(p_x_y1)/(m1-c_y1+0.0)"
   ]
  },
  {
   "cell_type": "code",
   "execution_count": 3,
   "metadata": {},
   "outputs": [
    {
     "name": "stdout",
     "output_type": "stream",
     "text": [
      "0.709677419355\n"
     ]
    }
   ],
   "source": [
    "#测试\n",
    "#一个样本sample，取其三个特征在p_x_y0和p_x_y1中三个分布相应特征值位置的取值相乘，并与p(y)相乘\n",
    "\n",
    "p_y0_x = p_y0 * p_x_y0[testX[:,0],0] * p_x_y0[testX[:,1],1] * p_x_y0[testX[:,2],2]\n",
    "p_y1_x = p_y1 * p_x_y1[testX[:,0],0] * p_x_y1[testX[:,1],1] * p_x_y1[testX[:,2],2]\n",
    "\n",
    "\n",
    "acc=0\n",
    "for i in range(m2):\n",
    "    if((p_y0_x[i]<0.5 and testY[i]==0) or (p_y1_x[i]>0.5 and testY[i]==1)):\n",
    "        acc += 1\n",
    "\n",
    "print(acc*1.0/m2)"
   ]
  },
  {
   "cell_type": "code",
   "execution_count": 4,
   "metadata": {},
   "outputs": [
    {
     "data": {
      "text/plain": [
       "[<matplotlib.lines.Line2D at 0x107b8cc0>,\n",
       " <matplotlib.lines.Line2D at 0x107b8da0>,\n",
       " <matplotlib.lines.Line2D at 0x107b8e48>]"
      ]
     },
     "execution_count": 4,
     "metadata": {},
     "output_type": "execute_result"
    },
    {
     "data": {
      "image/png": "[encoded data removed]",
      "text/plain": [
       "<Figure size 432x288 with 1 Axes>"
      ]
     },
     "metadata": {},
     "output_type": "display_data"
    }
   ],
   "source": [
    "%matplotlib inline\n",
    "import matplotlib.pyplot as plt\n",
    "plt.plot(p_x_y0)"
   ]
  },
  {
   "cell_type": "markdown",
   "metadata": {},
   "source": [
    "# Y为离散X为连续，需要对p(x|y)进行估计\n",
    "**采用非参数估计方法统计p(x|y)，再考虑参数估计方法**"
   ]
  },
  {
   "cell_type": "markdown",
   "metadata": {
    "collapsed": true
   },
   "source": [
    "## 估计p(x|y)\n",
    "###  数据源"
   ]
  },
  {
   "cell_type": "markdown",
   "metadata": {},
   "source": [
    "**生成一组正态分布的随机数**"
   ]
  },
  {
   "cell_type": "code",
   "execution_count": 10,
   "metadata": {
    "collapsed": true
   },
   "outputs": [],
   "source": [
    "import numpy as np\n",
    "import matplotlib.pyplot as plt #用于绘图的模块\n",
    "np.random.seed(1234)    #设置随机种子\n",
    "N = 200  #随机产生的样本量\n",
    "bins = 20\n",
    "randnorm = np.random.normal(size = N)   #生成正态随机数\n"
   ]
  },
  {
   "cell_type": "markdown",
   "metadata": {},
   "source": [
    "### 进行统计"
   ]
  },
  {
   "cell_type": "code",
   "execution_count": 23,
   "metadata": {},
   "outputs": [
    {
     "name": "stderr",
     "output_type": "stream",
     "text": [
      "c:\\users\\wm\\appdata\\local\\programs\\python\\python36\\lib\\site-packages\\matplotlib\\axes\\_axes.py:6462: UserWarning: The 'normed' kwarg is deprecated, and has been replaced by the 'density' kwarg.\n",
      "  warnings.warn(\"The 'normed' kwarg is deprecated, and has been \"\n"
     ]
    },
    {
     "data": {
      "image/png": "[encoded data removed]",
      "text/plain": [
       "<Figure size 864x576 with 1 Axes>"
      ]
     },
     "metadata": {},
     "output_type": "display_data"
    }
   ],
   "source": [
    "plt.figure(figsize=[12,8])\n",
    "#直方图的个数用2个量级进行bins=sqrt(N)\n",
    "#counts, bins, path = plt.hist(randnorm, bins = int(np.sqrt(N)), normed = True, color = 'blue')  #绘制直方图以上将直方图的频数和组距存放在counts和bins内。\n",
    "counts, bins, path = plt.hist(randnorm, bins = bins, normed = True, color = 'blue')\n",
    "#与正太分布密度函数进行比较\n",
    "sigma = 1; mu = 0\n",
    "norm_dist = (1/np.sqrt(2*sigma*np.pi))*np.exp(-((bins-mu)**2)/2)    #正态分布密度函数\n",
    "\n",
    "plt.plot(bins,norm_dist,color = 'red') #绘制正态分布密度函数图\n",
    "plt.savefig('filename.png',format='png')"
   ]
  },
  {
   "cell_type": "markdown",
   "metadata": {},
   "source": [
    "### 估计概率密度函数"
   ]
  },
  {
   "cell_type": "markdown",
   "metadata": {},
   "source": [
    "#### 方法1：使用scipy.optimize中的最小二乘拟合"
   ]
  },
  {
   "cell_type": "code",
   "execution_count": 8,
   "metadata": {},
   "outputs": [
    {
     "data": {
      "text/plain": [
       "[<matplotlib.lines.Line2D at 0x11130860>]"
      ]
     },
     "execution_count": 8,
     "metadata": {},
     "output_type": "execute_result"
    },
    {
     "data": {
      "image/png": "[encoded data removed]",
      "text/plain": [
       "<Figure size 432x288 with 1 Axes>"
      ]
     },
     "metadata": {},
     "output_type": "display_data"
    }
   ],
   "source": [
    "from scipy.optimize import leastsq\n",
    "\n",
    "\n",
    "def func(x, p):\n",
    "    return p[0] * np.square(x) + p[1] * x + p[2]\n",
    "\n",
    "def residuals(p, x, y, reg):\n",
    "    regularization = 0.1  # 正则化系数lambda\n",
    "    ret = y - func(x, p)\n",
    "    if reg == 1:\n",
    "        ret = np.append(ret, np.sqrt(regularization) * p)\n",
    "    return ret\n",
    "\n",
    "\n",
    "cnt = plt.hist(randnorm, bins = bins)\n",
    "x = cnt[1][0:20]\n",
    "y = cnt[0]\n",
    "reg=1\n",
    "try:\n",
    "    r = leastsq(residuals, [1, 1, 1], args=(x, y, reg))\n",
    "    \n",
    "except:\n",
    "    print(\"Error - curve_fit failed\")\n",
    "\n",
    "y2 = [func(i, r[0]) for i in x]\n",
    "plt.plot(x, y2)"
   ]
  },
  {
   "cell_type": "code",
   "execution_count": 9,
   "metadata": {},
   "outputs": [
    {
     "data": {
      "text/plain": [
       "(array([-2.34343957, -1.52455968, 16.96759754]), 1)"
      ]
     },
     "execution_count": 9,
     "metadata": {},
     "output_type": "execute_result"
    }
   ],
   "source": [
    "r"
   ]
  },
  {
   "cell_type": "markdown",
   "metadata": {},
   "source": [
    "#### 方法2：在查阅一番以后，发现，对于这类函数拟合的话，from scipy.optimize import curve_fit这个对于高斯型、指数型函数拟合效果比较好 "
   ]
  },
  {
   "cell_type": "code",
   "execution_count": 10,
   "metadata": {
    "collapsed": true
   },
   "outputs": [],
   "source": [
    "from scipy.optimize import curve_fit\n",
    "def func(x, a, b, c):  \n",
    "    return a * np.exp(-b * x) + c  \n",
    "def kde_sim(bins=bins):\n",
    "    cnt = plt.hist(randnorm, bins=bins)\n",
    "    x = cnt[1]\n",
    "    y = cnt[0]\n",
    "    popt, pcov = curve_fit(func, x[1:], y) # 问题的关键在这个func\n",
    "    y2 = [func(i, popt[0], popt[1], popt[2]) for i in x]\n",
    "    plt.figure()\n",
    "    plt.plot(x, y2, 'r--')\n",
    "    return popt"
   ]
  },
  {
   "cell_type": "code",
   "execution_count": 11,
   "metadata": {},
   "outputs": [
    {
     "data": {
      "text/plain": [
       "array([-1.45722836,  0.77337006, 14.38382791])"
      ]
     },
     "execution_count": 11,
     "metadata": {},
     "output_type": "execute_result"
    },
    {
     "data": {
      "image/png": "[encoded data removed]",
      "text/plain": [
       "<Figure size 432x288 with 1 Axes>"
      ]
     },
     "metadata": {},
     "output_type": "display_data"
    },
    {
     "data": {
      "image/png": "[encoded data removed]",
      "text/plain": [
       "<Figure size 432x288 with 1 Axes>"
      ]
     },
     "metadata": {},
     "output_type": "display_data"
    }
   ],
   "source": [
    "kde_sim()"
   ]
  },
  {
   "cell_type": "code",
   "execution_count": 8,
   "metadata": {},
   "outputs": [
    {
     "data": {
      "text/plain": [
       "array([-3.56351666, -3.2657928 , -2.96806894, -2.67034508, -2.37262123,\n",
       "       -2.07489737, -1.77717351, -1.47944965, -1.18172579, -0.88400193,\n",
       "       -0.58627807, -0.28855421,  0.00916965,  0.3068935 ,  0.60461736,\n",
       "        0.90234122,  1.20006508,  1.49778894,  1.7955128 ,  2.09323666,\n",
       "        2.39096052])"
      ]
     },
     "execution_count": 8,
     "metadata": {},
     "output_type": "execute_result"
    }
   ],
   "source": [
    "bins"
   ]
  },
  {
   "cell_type": "markdown",
   "metadata": {},
   "source": [
    "#### 方法4：使用seaborn直接进行估计"
   ]
  },
  {
   "cell_type": "code",
   "execution_count": 12,
   "metadata": {
    "collapsed": true
   },
   "outputs": [],
   "source": [
    "import seaborn as sns"
   ]
  },
  {
   "cell_type": "code",
   "execution_count": 28,
   "metadata": {},
   "outputs": [
    {
     "data": {
      "text/plain": [
       "<matplotlib.axes._subplots.AxesSubplot at 0x169c8518>"
      ]
     },
     "execution_count": 28,
     "metadata": {},
     "output_type": "execute_result"
    },
    {
     "data": {
      "image/png": "[encoded data removed]",
      "text/plain": [
       "<Figure size 432x288 with 1 Axes>"
      ]
     },
     "metadata": {},
     "output_type": "display_data"
    }
   ],
   "source": [
    "sns.distplot(randnorm)#kde = True调用了kdeplot"
   ]
  },
  {
   "cell_type": "code",
   "execution_count": 15,
   "metadata": {},
   "outputs": [
    {
     "data": {
      "text/plain": [
       "<matplotlib.axes._subplots.AxesSubplot at 0x1596e780>"
      ]
     },
     "execution_count": 15,
     "metadata": {},
     "output_type": "execute_result"
    },
    {
     "data": {
      "image/png": "[encoded data removed]",
      "text/plain": [
       "<Figure size 432x288 with 1 Axes>"
      ]
     },
     "metadata": {},
     "output_type": "display_data"
    }
   ],
   "source": [
    "sns.distplot(randnorm,kde=False)"
   ]
  },
  {
   "cell_type": "markdown",
   "metadata": {},
   "source": [
    "除了可以对曲线概率密度进行估计外，还可以使用指定函数进行拟合，但对于未知分布，效果不理想"
   ]
  },
  {
   "cell_type": "code",
   "execution_count": 27,
   "metadata": {
    "scrolled": true
   },
   "outputs": [
    {
     "data": {
      "text/plain": [
       "<matplotlib.axes._subplots.AxesSubplot at 0x166fd940>"
      ]
     },
     "execution_count": 27,
     "metadata": {},
     "output_type": "execute_result"
    },
    {
     "data": {
      "image/png": "[encoded data removed]",
      "text/plain": [
       "<Figure size 432x288 with 1 Axes>"
      ]
     },
     "metadata": {},
     "output_type": "display_data"
    }
   ],
   "source": [
    "from scipy import stats\n",
    "sns.distplot(randnorm,kde=False, fit=stats.expon)"
   ]
  },
  {
   "cell_type": "code",
   "execution_count": 29,
   "metadata": {},
   "outputs": [
    {
     "data": {
      "text/plain": [
       "<matplotlib.axes._subplots.AxesSubplot at 0x168c9128>"
      ]
     },
     "execution_count": 29,
     "metadata": {},
     "output_type": "execute_result"
    },
    {
     "data": {
      "image/png": "[encoded data removed]",
      "text/plain": [
       "<Figure size 432x288 with 1 Axes>"
      ]
     },
     "metadata": {},
     "output_type": "display_data"
    }
   ],
   "source": [
    "from scipy import stats\n",
    "sns.distplot(randnorm, fit=stats.expon)#kde = True调用了kdeplot，使用expon进行拟合对比，显然kdeplot效果好"
   ]
  },
  {
   "cell_type": "markdown",
   "metadata": {},
   "source": [
    "也可以使用kdeplot直接进行核密度估计"
   ]
  },
  {
   "cell_type": "code",
   "execution_count": 30,
   "metadata": {},
   "outputs": [
    {
     "data": {
      "text/plain": [
       "<matplotlib.axes._subplots.AxesSubplot at 0x16c75cc0>"
      ]
     },
     "execution_count": 30,
     "metadata": {},
     "output_type": "execute_result"
    },
    {
     "data": {
      "image/png": "[encoded data removed]",
      "text/plain": [
       "<Figure size 432x288 with 1 Axes>"
      ]
     },
     "metadata": {},
     "output_type": "display_data"
    }
   ],
   "source": [
    "sns.kdeplot(randnorm,cut=0)"
   ]
  },
  {
   "cell_type": "markdown",
   "metadata": {},
   "source": [
    "kdeplotd调用了_univariate_kdeplot\n",
    "在_univariate_kdeplot中\n",
    "```\n",
    "        if kernel != \"gau\":\n",
    "            kernel = \"gau\"\n",
    "            msg = \"Kernel other than `gau` requires statsmodels.\"\n",
    "            warnings.warn(msg, UserWarning)\n",
    "        if cumulative:\n",
    "            raise ImportError(\"Cumulative distributions are currently\"\n",
    "                              \"only implemented in statsmodels.\"\n",
    "                              \"Please install statsmodels.\")\n",
    "        x, y = _scipy_univariate_kde(data, bw, gridsize, cut, clip)\n",
    "```\n",
    "强制使用gau核，\n",
    "最后调用\n",
    "\n",
    "    x, y = _scipy_univariate_kde(data, bw, gridsize, cut, clip)\n",
    "    \n",
    "```\n",
    "def _scipy_univariate_kde(data, bw, gridsize, cut, clip):\n",
    "    \"\"\"Compute a univariate kernel density estimate using scipy.\"\"\"\n",
    "    try:\n",
    "        kde = stats.gaussian_kde(data, bw_method=bw)\n",
    "    except TypeError:\n",
    "        kde = stats.gaussian_kde(data)\n",
    "        if bw != \"scott\":  # scipy default\n",
    "            msg = (\"Ignoring bandwidth choice, \"\n",
    "                   \"please upgrade scipy to use a different bandwidth.\")\n",
    "            warnings.warn(msg, UserWarning)\n",
    "    if isinstance(bw, string_types):\n",
    "        bw = \"scotts\" if bw == \"scott\" else bw\n",
    "        bw = getattr(kde, \"%s_factor\" % bw)() * np.std(data)\n",
    "    grid = _kde_support(data, bw, gridsize, cut, clip)\n",
    "    y = kde(grid)\n",
    "    return grid, y\n",
    "```\n",
    "\n",
    "那么我们直接使用这些代码"
   ]
  },
  {
   "cell_type": "code",
   "execution_count": 4,
   "metadata": {
    "collapsed": true
   },
   "outputs": [],
   "source": [
    "from six import string_types\n",
    "from scipy import stats\n",
    "import numpy as np\n",
    "import matplotlib.pyplot as plt #用于绘图的模块\n",
    "np.random.seed(1234)    #设置随机种子\n",
    "N = 200  #随机产生的样本量\n",
    "#bins = 20\n",
    "#randnorm = np.random.normal(size = N)   #生成正态随机数\n",
    "randnorm = np.random.exponential(size=N)  # lam为λ size为k 泊松分布\n",
    "#randnorm = randnorm*1.0/max(randnorm)"
   ]
  },
  {
   "cell_type": "code",
   "execution_count": 5,
   "metadata": {},
   "outputs": [
    {
     "data": {
      "text/plain": [
       "[<matplotlib.lines.Line2D at 0x1c570a1f908>]"
      ]
     },
     "execution_count": 5,
     "metadata": {},
     "output_type": "execute_result"
    },
    {
     "data": {
      "image/png": "[encoded data removed]",
      "text/plain": [
       "<Figure size 432x288 with 1 Axes>"
      ]
     },
     "metadata": {},
     "output_type": "display_data"
    }
   ],
   "source": [
    "bw=\"scott\"\n",
    "data=randnorm\n",
    "kde = stats.gaussian_kde(data, bw_method=bw)\n",
    "if isinstance(bw, string_types):\n",
    "    bw = \"scotts\" if bw == \"scott\" else bw\n",
    "    bw = getattr(kde, \"%s_factor\" % bw)() * np.std(data)\n",
    "\n",
    "clip = (-np.inf, np.inf)\n",
    "gridsize = 100\n",
    "cut = 4\n",
    "support_min = max(data.min() - bw * cut, clip[0])\n",
    "support_max = min(data.max() + bw * cut, clip[1])\n",
    "grid = np.linspace(support_min, support_max, gridsize)\n",
    "y = kde(grid)\n",
    "x, y =grid, y\n",
    "y = np.amax(np.c_[np.zeros_like(y), y], axis=1)\n",
    "plt.plot(x,y)"
   ]
  },
  {
   "cell_type": "code",
   "execution_count": 10,
   "metadata": {},
   "outputs": [
    {
     "name": "stdout",
     "output_type": "stream",
     "text": [
      "14\n"
     ]
    },
    {
     "data": {
      "image/png": "[encoded data removed]",
      "text/plain": [
       "<Figure size 432x288 with 1 Axes>"
      ]
     },
     "metadata": {},
     "output_type": "display_data"
    }
   ],
   "source": [
    "#Calculate number of hist bins using Freedman-Diaconis rule\n",
    "def iqr(a):\n",
    "    \"\"\"Calculate the IQR(四分位距) for an array of numbers.\"\"\"\n",
    "    a = np.asarray(a)\n",
    "    q1 = stats.scoreatpercentile(a, 25)\n",
    "    q3 = stats.scoreatpercentile(a, 75)\n",
    "    return q3 - q1\n",
    "data=randnorm\n",
    "if len(data)<2:\n",
    "    bins = 1\n",
    "h = 2 * iqr(data) / (len(data) ** (1 / 3))\n",
    "if h == 0:\n",
    "    bins = int(np.sqrt(data.size))\n",
    "else:\n",
    "    bins = int(np.ceil((data.max() - data.min()) / h))\n",
    "plt.hist(data,bins=bins,density=True)\n",
    "plt.plot(x,y)\n",
    "print(bins)"
   ]
  },
  {
   "cell_type": "code",
   "execution_count": 6,
   "metadata": {
    "collapsed": true
   },
   "outputs": [],
   "source": [
    "?stats.scoreatpercentile()"
   ]
  },
  {
   "cell_type": "code",
   "execution_count": 18,
   "metadata": {},
   "outputs": [
    {
     "data": {
      "text/plain": [
       "2125.986576184801"
      ]
     },
     "execution_count": 18,
     "metadata": {},
     "output_type": "execute_result"
    }
   ],
   "source": [
    "randnorm"
   ]
  },
  {
   "cell_type": "code",
   "execution_count": 17,
   "metadata": {
    "collapsed": true
   },
   "outputs": [],
   "source": [
    "?kde"
   ]
  },
  {
   "cell_type": "code",
   "execution_count": 58,
   "metadata": {
    "collapsed": true
   },
   "outputs": [],
   "source": []
  },
  {
   "cell_type": "markdown",
   "metadata": {
    "collapsed": true
   },
   "source": [
    "# 得到概率密度函数"
   ]
  },
  {
   "cell_type": "code",
   "execution_count": 20,
   "metadata": {
    "collapsed": true
   },
   "outputs": [],
   "source": [
    "from scipy import stats\n"
   ]
  },
  {
   "cell_type": "code",
   "execution_count": 23,
   "metadata": {
    "collapsed": true
   },
   "outputs": [],
   "source": [
    "\n",
    "bw = stats.gaussian_kde(randnorm).scotts_factor() * randnorm.std(ddof=1)\n",
    "kde = stats.gaussian_kde(randnorm, bw_method=bw)"
   ]
  },
  {
   "cell_type": "code",
   "execution_count": 19,
   "metadata": {
    "collapsed": true
   },
   "outputs": [],
   "source": [
    "import numpy as np\n",
    "a=np.array([1,2,3,4])\n",
    "b=np.atleast_2d(a)"
   ]
  },
  {
   "cell_type": "code",
   "execution_count": 21,
   "metadata": {},
   "outputs": [
    {
     "data": {
      "text/plain": [
       "(1, 4)"
      ]
     },
     "execution_count": 21,
     "metadata": {},
     "output_type": "execute_result"
    }
   ],
   "source": [
    "c=np.atleast_2d(b)\n",
    "c.shape"
   ]
  },
  {
   "cell_type": "code",
   "execution_count": 25,
   "metadata": {},
   "outputs": [
    {
     "data": {
      "text/plain": [
       "array([[3]])"
      ]
     },
     "execution_count": 25,
     "metadata": {},
     "output_type": "execute_result"
    }
   ],
   "source": [
    "dataset = np.atleast_2d(a)\n",
    "dataset[:, 2, np.newaxis] "
   ]
  },
  {
   "cell_type": "code",
   "execution_count": 2,
   "metadata": {
    "collapsed": true
   },
   "outputs": [],
   "source": [
    "import numpy as np"
   ]
  },
  {
   "cell_type": "code",
   "execution_count": 15,
   "metadata": {
    "collapsed": true
   },
   "outputs": [],
   "source": [
    "?plt.Figure"
   ]
  }
 ],
 "metadata": {
  "kernelspec": {
   "display_name": "Python 3",
   "language": "python",
   "name": "python3"
  },
  "language_info": {
   "codemirror_mode": {
    "name": "ipython",
    "version": 3
   },
   "file_extension": ".py",
   "mimetype": "text/x-python",
   "name": "python",
   "nbconvert_exporter": "python",
   "pygments_lexer": "ipython3",
   "version": "3.6.3"
  },
  "toc": {
   "base_numbering": 1,
   "nav_menu": {
    "height": "105px",
    "width": "252px"
   },
   "number_sections": true,
   "sideBar": true,
   "skip_h1_title": false,
   "title_cell": "Table of Contents",
   "title_sidebar": "Contents",
   "toc_cell": false,
   "toc_position": {},
   "toc_section_display": "block",
   "toc_window_display": true
  },
  "varInspector": {
   "cols": {
    "lenName": 16,
    "lenType": 16,
    "lenVar": 40
   },
   "kernels_config": {
    "python": {
     "delete_cmd_postfix": "",
     "delete_cmd_prefix": "del ",
     "library": "var_list.py",
     "varRefreshCmd": "print(var_dic_list())"
    },
    "r": {
     "delete_cmd_postfix": ") ",
     "delete_cmd_prefix": "rm(",
     "library": "var_list.r",
     "varRefreshCmd": "cat(var_dic_list()) "
    }
   },
   "types_to_exclude": [
    "module",
    "function",
    "builtin_function_or_method",
    "instance",
    "_Feature"
   ],
   "window_display": false
  }
 },
 "nbformat": 4,
 "nbformat_minor": 2
}
