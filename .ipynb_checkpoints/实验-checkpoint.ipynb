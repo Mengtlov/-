{
 "cells": [
  {
   "cell_type": "markdown",
   "metadata": {},
   "source": [
    "# 载入数据"
   ]
  },
  {
   "cell_type": "code",
   "execution_count": 1,
   "metadata": {
    "collapsed": true
   },
   "outputs": [],
   "source": [
    "import pickle\n",
    "import numpy as np"
   ]
  },
  {
   "cell_type": "code",
   "execution_count": 2,
   "metadata": {
    "collapsed": true
   },
   "outputs": [],
   "source": [
    "with open('predict_train_test_data.pickle', 'rb') as handle:\n",
    "    data = pickle.load(handle)"
   ]
  },
  {
   "cell_type": "code",
   "execution_count": 3,
   "metadata": {
    "collapsed": true
   },
   "outputs": [],
   "source": [
    "trainX      = data['x_train_new']\n",
    "trainY      = data['trainY']\n",
    "testX       = data['x_test_new']\n",
    "testY       = data['testY']\n",
    "del data"
   ]
  },
  {
   "cell_type": "code",
   "execution_count": 4,
   "metadata": {},
   "outputs": [
    {
     "data": {
      "text/plain": [
       "(2747L, 12L)"
      ]
     },
     "execution_count": 4,
     "metadata": {},
     "output_type": "execute_result"
    }
   ],
   "source": [
    "trainX.shape"
   ]
  },
  {
   "cell_type": "markdown",
   "metadata": {},
   "source": [
    "# 取其中的三类"
   ]
  },
  {
   "cell_type": "code",
   "execution_count": 5,
   "metadata": {
    "collapsed": true
   },
   "outputs": [],
   "source": [
    "#训练集，用于构造分类器\n",
    "index=np.nonzero(trainY<=2)\n",
    "train_3X = trainX[index]\n",
    "train_3Y = trainY[index]\n",
    "train_0X = trainX[np.nonzero(trainY==0)]\n",
    "train_1X = trainX[np.nonzero(trainY==1)]\n",
    "train_2X = trainX[np.nonzero(trainY==2)]\n",
    "train3X=[train_0X,train_1X,train_2X]\n",
    "#测试集，用于测试分类器\n",
    "index=np.nonzero(testY<=2)\n",
    "test_3X = testX[index]\n",
    "test_3Y = testY[index]"
   ]
  },
  {
   "cell_type": "code",
   "execution_count": 7,
   "metadata": {
    "collapsed": true
   },
   "outputs": [],
   "source": [
    "from scipy import stats\n",
    "kde = stats.gaussian_kde(train3X[0][:,0], bw_method='scott')"
   ]
  },
  {
   "cell_type": "code",
   "execution_count": null,
   "metadata": {
    "collapsed": true
   },
   "outputs": [],
   "source": [
    "kde.scotts_factor"
   ]
  },
  {
   "cell_type": "markdown",
   "metadata": {},
   "source": [
    "## 计算概率分布p(y=i)"
   ]
  },
  {
   "cell_type": "code",
   "execution_count": 6,
   "metadata": {
    "collapsed": true
   },
   "outputs": [],
   "source": [
    "#样本总数\n",
    "total=len(train_3Y)\n",
    "#三类样本数\n",
    "n0 = np.count_nonzero(train_3Y==0)\n",
    "n1 = np.count_nonzero(train_3Y==1)\n",
    "n2 = np.count_nonzero(train_3Y==2)\n",
    "#p(y=i)\n",
    "p_y_0 = n0*1.0/total\n",
    "p_y_1 = n1*1.0/total\n",
    "p_y_2 = n2*1.0/total\n",
    "p_y=[p_y_0,p_y_1,p_y_2]"
   ]
  },
  {
   "cell_type": "markdown",
   "metadata": {},
   "source": [
    "## 计算概率密度p(xi|y=j)\n",
    "每个类有十个特征，共需计算30个条件概率密度"
   ]
  },
  {
   "cell_type": "code",
   "execution_count": 7,
   "metadata": {
    "collapsed": true
   },
   "outputs": [],
   "source": [
    "from six import string_types\n",
    "from scipy import stats\n",
    "def pdf(data):   \n",
    "    bw=\"scott\"\n",
    "    kde = stats.gaussian_kde(data, bw_method=bw)\n",
    "    if isinstance(bw, string_types):\n",
    "        bw = \"scotts\" if bw == \"scott\" else bw\n",
    "        bw = getattr(kde, \"%s_factor\" % bw)() * np.std(data)\n",
    "\n",
    "    clip = (-np.inf, np.inf)\n",
    "    gridsize = 100\n",
    "    cut = 4\n",
    "    support_min = max(data.min() - bw * cut, clip[0])\n",
    "    support_max = min(data.max() + bw * cut, clip[1])\n",
    "    grid = np.linspace(support_min, support_max, gridsize)\n",
    "    y = kde(grid)\n",
    "    x, y =grid, y\n",
    "    y = np.amax(np.c_[np.zeros_like(y), y], axis=1)\n",
    "    return [x,y]"
   ]
  },
  {
   "cell_type": "code",
   "execution_count": 8,
   "metadata": {
    "collapsed": true
   },
   "outputs": [],
   "source": [
    "#类别数\n",
    "nc = 3\n",
    "#特征数\n",
    "nf = 12\n",
    "pdfs=[[],[],[]]\n",
    "\n",
    "for i in range(nc):\n",
    "    for j in range(nf):\n",
    "        pdfs[i].append(pdf(train3X[i][:,j]))"
   ]
  },
  {
   "cell_type": "code",
   "execution_count": 9,
   "metadata": {},
   "outputs": [
    {
     "data": {
      "text/plain": [
       "[<matplotlib.lines.Line2D at 0x13adc0b8>]"
      ]
     },
     "execution_count": 9,
     "metadata": {},
     "output_type": "execute_result"
    },
    {
     "data": {
      "image/png": "[encoded data removed]",
      "text/plain": [
       "<Figure size 432x288 with 1 Axes>"
      ]
     },
     "metadata": {},
     "output_type": "display_data"
    }
   ],
   "source": [
    "%matplotlib inline\n",
    "import matplotlib.pyplot as plt\n",
    "plt.plot(pdfs[0][0][0],pdfs[0][0][1])"
   ]
  },
  {
   "cell_type": "code",
   "execution_count": 10,
   "metadata": {
    "collapsed": true
   },
   "outputs": [],
   "source": [
    "#分类器\n",
    "def classifier(test):\n",
    "    \n",
    "    pre = np.zeros([len(test),nc])\n",
    "    for i in range(len(test)):\n",
    "        \n",
    "        up = []\n",
    "        for j in range(nc): #对每个类，找到\n",
    "                             #找到各个特征值对应的概率密度\n",
    "            \n",
    "            tmp = 1\n",
    "            for n in range(nf):#循环求得概率密度\n",
    "                x=pdfs[j][n][0]#类别j的第n个特征的pdf\n",
    "                y=pdfs[j][n][1]\n",
    "                \n",
    "                index=np.nonzero(x>=test[i][n])[0]\n",
    "                if len(index)==0:\n",
    "                    index=-1\n",
    "                else:\n",
    "                    index = index[0]\n",
    "                #print(i,n)\n",
    "                tmp=tmp*y[index]#可能为0\n",
    "            tmp = tmp*p_y[j]#将概率密度与p(y=i)相乘得到分子\n",
    "            up.append(tmp)#分母为所有分子的和，保存所有分子\n",
    "        down = 0#分母\n",
    "        for m in up:#将所有分子相加得到分母\n",
    "            down = down + m#为0的概率小\n",
    "        for j in range(nc):\n",
    "            pre[i,j]=up[j]*1.0/down#p(y=j|x=i),即当样本为i时类别为j的概率\n",
    "    pre = pre.argmax(axis=1)\n",
    "    return pre"
   ]
  },
  {
   "cell_type": "code",
   "execution_count": 11,
   "metadata": {},
   "outputs": [
    {
     "name": "stdout",
     "output_type": "stream",
     "text": [
      "100.0 %\n",
      "85.1951547779 %\n"
     ]
    }
   ],
   "source": [
    "pre_train=classifier(train_3X)\n",
    "acc=np.count_nonzero(pre_train==train_3Y)\n",
    "acc=acc*1.0/len(train_3Y)\n",
    "print acc*100,'%'\n",
    "\n",
    "pre_test=classifier(test_3X)\n",
    "acc=np.count_nonzero(pre_test==test_3Y)\n",
    "acc=acc*1.0/len(test_3Y)\n",
    "print acc*100,'%'"
   ]
  },
  {
   "cell_type": "markdown",
   "metadata": {},
   "source": [
    "# 6类情况下"
   ]
  },
  {
   "cell_type": "code",
   "execution_count": 23,
   "metadata": {
    "collapsed": true
   },
   "outputs": [],
   "source": [
    "#训练集，用于构造分类器\n",
    "index=np.nonzero(trainY<=5)\n",
    "train_6X = trainX[index]\n",
    "train_6Y = trainY[index]\n",
    "train_0X = trainX[np.nonzero(trainY==0)]\n",
    "train_1X = trainX[np.nonzero(trainY==1)]\n",
    "train_2X = trainX[np.nonzero(trainY==2)]\n",
    "train_3X = trainX[np.nonzero(trainY==3)]\n",
    "train_4X = trainX[np.nonzero(trainY==4)]\n",
    "train_5X = trainX[np.nonzero(trainY==5)]\n",
    "train6X=[train_0X,train_1X,train_2X,train_3X,train_4X,train_5X]\n",
    "#测试集，用于测试分类器\n",
    "index=np.nonzero(testY<=5)\n",
    "test_6X = testX[index]\n",
    "test_6Y = testY[index]"
   ]
  },
  {
   "cell_type": "code",
   "execution_count": 13,
   "metadata": {
    "collapsed": true
   },
   "outputs": [],
   "source": [
    "#样本总数\n",
    "total=len(train_6Y)\n",
    "#三类样本数\n",
    "n0 = np.count_nonzero(train_6Y==0)\n",
    "n1 = np.count_nonzero(train_6Y==1)\n",
    "n2 = np.count_nonzero(train_6Y==2)\n",
    "n3 = np.count_nonzero(train_6Y==3)\n",
    "n4 = np.count_nonzero(train_6Y==4)\n",
    "n5 = np.count_nonzero(train_6Y==5)\n",
    "#p(y=i)\n",
    "p_y_0 = n0*1.0/total\n",
    "p_y_1 = n1*1.0/total\n",
    "p_y_2 = n2*1.0/total\n",
    "p_y_3 = n3*1.0/total\n",
    "p_y_4 = n4*1.0/total\n",
    "p_y_5 = n5*1.0/total\n",
    "\n",
    "p_y=[p_y_0,p_y_1,p_y_2,p_y_3,p_y_4,p_y_5]"
   ]
  },
  {
   "cell_type": "code",
   "execution_count": 14,
   "metadata": {
    "collapsed": true
   },
   "outputs": [],
   "source": [
    "#类别数\n",
    "nc = 6\n",
    "#特征数\n",
    "nf = 12\n",
    "pdfs=[]\n",
    "for i in range(nc):\n",
    "    pdfs.append([])\n",
    "\n",
    "for i in range(nc):\n",
    "    for j in range(nf):\n",
    "        pdfs[i].append(pdf(train6X[i][:,j]))"
   ]
  },
  {
   "cell_type": "code",
   "execution_count": 22,
   "metadata": {},
   "outputs": [
    {
     "name": "stdout",
     "output_type": "stream",
     "text": [
      "100.0 %\n"
     ]
    }
   ],
   "source": [
    "pre_train=classifier(train_6X)\n",
    "acc=np.count_nonzero(pre_train==train_6Y)\n",
    "acc=acc*1.0/len(train_6Y)\n",
    "print acc*100,'%'\n",
    "\n"
   ]
  },
  {
   "cell_type": "code",
   "execution_count": 25,
   "metadata": {},
   "outputs": [
    {
     "name": "stdout",
     "output_type": "stream",
     "text": [
      "89.7727272727 %\n"
     ]
    }
   ],
   "source": [
    "pre_test=classifier(test_6X)\n",
    "acc=np.count_nonzero(pre_test==test_6Y)\n",
    "acc=acc*1.0/len(test_6Y)\n",
    "print acc*100,'%'"
   ]
  },
  {
   "cell_type": "code",
   "execution_count": 27,
   "metadata": {},
   "outputs": [
    {
     "name": "stdout",
     "output_type": "stream",
     "text": [
      "82.6379542396 %\n"
     ]
    }
   ],
   "source": [
    "pre_test=classifier(test_3X)\n",
    "acc=np.count_nonzero(pre_test==test_3Y)\n",
    "acc=acc*1.0/len(test_3Y)\n",
    "print acc*100,'%'"
   ]
  },
  {
   "cell_type": "code",
   "execution_count": 29,
   "metadata": {},
   "outputs": [
    {
     "data": {
      "text/plain": [
       "array([5, 0, 1, 1, 2, 2, 2, 2, 0, 4, 1, 0, 2, 2, 2, 1, 2, 0, 0, 1, 1, 2,\n",
       "       2, 3, 0, 2, 2, 1, 0, 2, 1, 2, 0, 0, 0, 0, 1, 1, 2, 2, 1, 3, 1, 2,\n",
       "       1, 0, 2, 0, 0, 1, 2, 0, 0, 1, 1, 2, 2, 0, 2, 0, 2, 2, 1, 1, 1, 0,\n",
       "       0, 1, 1, 2, 2, 2, 0, 2, 1, 2, 4, 0, 0, 2, 0, 0, 0, 1, 1, 0, 2, 1,\n",
       "       2, 2, 2, 1, 1, 0, 2, 0, 2, 0, 0, 1, 1, 2, 2, 1, 2, 4, 0, 1, 2, 2,\n",
       "       0, 0, 1, 1, 2, 2, 2, 1, 0, 0, 1, 2, 1, 0, 0, 1, 1, 2, 2, 2, 0, 1,\n",
       "       2, 2, 2, 2, 0, 0, 1, 1, 2, 2, 1, 0, 2, 1, 2, 2, 2, 2, 0, 2, 1, 1,\n",
       "       2, 2, 2, 2, 1, 2, 0, 2, 2, 0, 0, 2, 1, 1, 2, 2, 1, 0, 2, 1, 2, 0,\n",
       "       0, 1, 1, 2, 2, 2, 2, 2, 0, 2, 0, 1, 2, 0, 3, 1, 1, 2, 2, 0, 2, 2,\n",
       "       2, 2, 2, 0, 0, 1, 0, 0, 2, 2, 0, 1, 1, 2, 3, 2, 3, 2, 2, 2, 1, 1,\n",
       "       2, 2, 2, 1, 4, 2, 1, 2, 2, 2, 0, 2, 0, 1, 1, 2, 2, 2, 1, 1, 0, 1,\n",
       "       2, 0, 1, 1, 2, 2, 2, 1, 1, 1, 2, 0, 2, 1, 1, 2, 2, 2, 2, 1, 0, 1,\n",
       "       2, 0, 0, 1, 3, 2, 2, 2, 0, 4, 1, 1, 2, 2, 0, 1, 2, 1, 4, 2, 0, 2,\n",
       "       0, 2, 0, 2, 1, 1, 2, 2, 0, 0, 0, 0, 2, 1, 1, 2, 0, 0, 1, 0, 2, 0,\n",
       "       1, 1, 2, 2, 2, 0, 2, 3, 2, 1, 1, 2, 1, 0, 1, 1, 2, 2, 2, 2, 2, 1,\n",
       "       4, 0, 2, 0, 2, 1, 1, 2, 2, 2, 2, 1, 0, 1, 3, 1, 2, 1, 1, 2, 2, 0,\n",
       "       1, 2, 3, 1, 1, 2, 1, 1, 4, 2, 1, 2, 1, 0, 2, 2, 2, 2, 2, 0, 1, 1,\n",
       "       2, 2, 2, 2, 2, 1, 0, 2, 2, 2, 2, 2, 1, 1, 2, 2, 2, 2, 1, 0, 2, 2,\n",
       "       1, 1, 2, 2, 1, 1, 2, 2, 1, 2, 2, 0, 1, 2, 2, 2, 2, 0, 1, 1, 2, 2,\n",
       "       2, 0, 0, 1, 2, 2, 0, 2, 1, 1, 2, 2, 2, 2, 2, 0, 1, 1, 1, 2, 2, 0,\n",
       "       2, 1, 1, 1, 2, 2, 2, 0, 1, 2, 2, 2, 1, 1, 2, 2, 0, 1, 2, 2, 0, 2,\n",
       "       2, 1, 2, 2, 2, 1, 1, 2, 2, 2, 0, 2, 0, 0, 2, 2, 1, 1, 2, 2, 3, 2,\n",
       "       1, 0, 2, 2, 0, 2, 0, 0, 1, 0, 1, 1, 4, 2, 2, 2, 1, 2, 2, 2, 1, 0,\n",
       "       0, 0, 0, 1, 1, 2, 2, 0, 0, 0, 1, 2, 0, 4, 0, 0, 0, 0, 1, 1, 2, 2,\n",
       "       2, 0, 2, 2, 1, 2, 2, 1, 1, 1, 0, 1, 1, 2, 2, 1, 0, 0, 0, 1, 1, 3,\n",
       "       2, 2, 0, 2, 2, 1, 1, 1, 1, 0, 2, 0, 0, 0, 1, 1, 2, 2, 4, 1, 2, 2,\n",
       "       0, 2, 2, 1, 1, 0, 0, 1, 1, 4, 2, 1, 1, 4, 2, 2, 2, 1, 1, 1, 0, 0,\n",
       "       1, 1, 2, 2, 0, 1, 2, 2, 1, 1, 1, 0, 2, 2, 2, 0, 4, 1, 1, 4, 2, 0,\n",
       "       0, 2, 1, 1, 1, 1, 2, 2, 0, 0, 1, 1, 3, 2, 0, 4, 2, 1, 3, 2, 2, 0,\n",
       "       2, 0, 1, 1, 1, 4, 2, 0, 2, 4, 2, 0, 2, 2, 2, 0, 0, 1, 1, 1, 2, 1,\n",
       "       2, 1, 3, 0, 0, 2, 0, 2, 1, 2, 1, 0, 0, 1, 1, 3, 2, 1, 1, 0, 0, 1,\n",
       "       2, 2, 0, 2, 1, 1, 0, 2, 1, 2, 0, 1, 0, 2, 1, 2, 2, 0, 0, 0, 0, 0,\n",
       "       1, 1, 4, 2, 0, 0, 0, 0, 4, 1, 2, 2, 0, 2, 2, 0, 0, 4, 2, 2, 0, 0,\n",
       "       0, 1, 1, 2, 2, 2, 2, 2, 1, 0, 0, 1, 1, 2, 2, 1, 2], dtype=int64)"
      ]
     },
     "execution_count": 29,
     "metadata": {},
     "output_type": "execute_result"
    }
   ],
   "source": [
    "pre_test"
   ]
  },
  {
   "cell_type": "markdown",
   "metadata": {},
   "source": [
    "# 在3类测试集上的效果变差，原因在于引入新的类别后，某些样本会归为新类"
   ]
  }
 ],
 "metadata": {
  "kernelspec": {
   "display_name": "Python 2",
   "language": "python",
   "name": "python2"
  },
  "language_info": {
   "codemirror_mode": {
    "name": "ipython",
    "version": 2
   },
   "file_extension": ".py",
   "mimetype": "text/x-python",
   "name": "python",
   "nbconvert_exporter": "python",
   "pygments_lexer": "ipython2",
   "version": "2.7.12"
  },
  "toc": {
   "base_numbering": 1,
   "colors": {
    "hover_highlight": "#DAA520",
    "navigate_num": "#000000",
    "navigate_text": "#333333",
    "running_highlight": "#FF0000",
    "selected_highlight": "#FFD700",
    "sidebar_border": "#EEEEEE",
    "wrapper_background": "#FFFFFF"
   },
   "moveMenuLeft": true,
   "nav_menu": {},
   "navigate_menu": true,
   "number_sections": true,
   "sideBar": true,
   "skip_h1_title": false,
   "threshold": 4,
   "title_cell": "Table of Contents",
   "title_sidebar": "Contents",
   "toc_cell": false,
   "toc_position": {},
   "toc_section_display": true,
   "toc_window_display": false,
   "widenNotebook": false
  },
  "varInspector": {
   "cols": {
    "lenName": 16,
    "lenType": 16,
    "lenVar": 40
   },
   "kernels_config": {
    "python": {
     "delete_cmd_postfix": "",
     "delete_cmd_prefix": "del ",
     "library": "var_list.py",
     "varRefreshCmd": "print(var_dic_list())"
    },
    "r": {
     "delete_cmd_postfix": ") ",
     "delete_cmd_prefix": "rm(",
     "library": "var_list.r",
     "varRefreshCmd": "cat(var_dic_list()) "
    }
   },
   "types_to_exclude": [
    "module",
    "function",
    "builtin_function_or_method",
    "instance",
    "_Feature"
   ],
   "window_display": false
  }
 },
 "nbformat": 4,
 "nbformat_minor": 2
}
